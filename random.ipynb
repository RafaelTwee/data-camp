{
 "cells": [
  {
   "cell_type": "markdown",
   "metadata": {},
   "source": [
    "Simulando um cara ou coroa com expressão lambda "
   ]
  },
  {
   "cell_type": "code",
   "execution_count": 1,
   "metadata": {},
   "outputs": [
    {
     "name": "stdout",
     "output_type": "stream",
     "text": [
      "Cara\n"
     ]
    }
   ],
   "source": [
    "import numpy as np\n",
    "resultado = np.random.randint(0,2)\n",
    "print('Cara' if resultado == 1 else 'Coroa')"
   ]
  },
  {
   "cell_type": "markdown",
   "metadata": {},
   "source": [
    "#### Simulação\n",
    "Um prédio tem 100 andares. Sempre que eu jogar um dado, se cair [1, 2] eu desço um andar, se cair [3, 4, 5] eu subo um andar e se cair [6] eu jogo outro dado para saber o número de andares devo subir. Só posso jogar o dado 100 vezes e quero saber a chance de eu terminar pelo menos no andar 60.\n"
   ]
  },
  {
   "cell_type": "code",
   "execution_count": null,
   "metadata": {},
   "outputs": [
    {
     "data": {
      "image/png": "[encoded data removed]",
      "text/plain": [
       "<Figure size 640x480 with 1 Axes>"
      ]
     },
     "metadata": {},
     "output_type": "display_data"
    },
    {
     "name": "stdout",
     "output_type": "stream",
     "text": [
      "Você chegou no andar 60 em 5945 das 10000 vezes, resultando em uma chance de 59.45%\n"
     ]
    }
   ],
   "source": [
    "#importar numpy e matplotlib\n",
    "import numpy as np\n",
    "import matplotlib.pyplot as plt\n",
    "\n",
    "#definir função para zerar o andar com 0.5% de chance a cada movimento\n",
    "def mover(andar, passos):\n",
    "    if passos > 0:\n",
    "        andar = andar + 1\n",
    "    elif passos < 0:\n",
    "        andar = max(andar - 1, 0)\n",
    "    if np.random.rand() <= 0.005:  # Corrigido para 0.5%\n",
    "        andar = 0\n",
    "    return andar\n",
    "\n",
    "maior_andar_iteracao = []\n",
    "#simular 10000 vezes\n",
    "for _ in range(10000):  # Corrigido para 10000\n",
    "    lista_andares = [0]\n",
    "    \n",
    "    #jogar 100 vezes o dado\n",
    "    for _ in range(100):\n",
    "        andar = lista_andares[-1]\n",
    "        \n",
    "        #sair do loop quando chegar no andar 60\n",
    "        if andar >= 60:\n",
    "            break\n",
    "\n",
    "        #estrutura condicional\n",
    "        valor_dado = np.random.randint(1, 7)\n",
    "        if valor_dado <= 2:\n",
    "            andar = mover(andar, -1)\n",
    "        elif valor_dado > 2 and valor_dado < 6:\n",
    "            andar = mover(andar, 1)\n",
    "        else:\n",
    "            for _ in range(np.random.randint(1, 7)):\n",
    "                andar = mover(andar, 1)\n",
    "\n",
    "        #random walk pelos andares \n",
    "        lista_andares.append(andar)\n",
    "    \n",
    "    #adicionar a iteração que passar de 60 ou a ultima\n",
    "    maior_andar_iteracao.append(lista_andares[-1])\n",
    "\n",
    "#plotar histograma\n",
    "plt.hist(maior_andar_iteracao, 10)\n",
    "plt.show()\n",
    "\n",
    "# Corrigido para >= 60 e divisão por 10000\n",
    "vezes_sucesso = sum(i >= 60 for i in maior_andar_iteracao)\n",
    "print(f'Você chegou no andar 60 em {vezes_sucesso} das 10000 vezes, resultando em uma chance de {(vezes_sucesso / 10000) * 100:.2f}%')"
   ]
  }
 ],
 "metadata": {
  "kernelspec": {
   "display_name": "base",
   "language": "python",
   "name": "python3"
  },
  "language_info": {
   "codemirror_mode": {
    "name": "ipython",
    "version": 3
   },
   "file_extension": ".py",
   "mimetype": "text/x-python",
   "name": "python",
   "nbconvert_exporter": "python",
   "pygments_lexer": "ipython3",
   "version": "3.12.7"
  }
 },
 "nbformat": 4,
 "nbformat_minor": 2
}
